{
 "cells": [
  {
   "cell_type": "code",
   "execution_count": null,
   "id": "1cfaa391",
   "metadata": {},
   "outputs": [],
   "source": [
    "import os\n",
    "os.environ[\"PYTORCH_CUDA_ALLOC_CONF\"] = \"max_split_size_mb:512\"\n",
    "os.environ[\"OMP_NUM_THREADS\"] = \"12\"\n",
    "\n",
    "import torch"
   ]
  },
  {
   "cell_type": "code",
   "execution_count": null,
   "id": "825d33c7",
   "metadata": {},
   "outputs": [],
   "source": [
    "import time\n",
    "import yaml\n",
    "import pandas as pd\n",
    "from rdkit import Chem"
   ]
  },
  {
   "cell_type": "markdown",
   "id": "9cbf2ebb",
   "metadata": {},
   "source": [
    "Please note the code here run on Docker instead of Google Colab. So it has to be adequately rewritten to run on Colab. However, setting the environment on Google Colab is in RASSP_predict notebook."
   ]
  },
  {
   "cell_type": "code",
   "execution_count": null,
   "id": "a6e2becb",
   "metadata": {},
   "outputs": [],
   "source": [
    "from rassp.msutil.masscompute import FragmentFormulaPeakEnumerator\n",
    "\n",
    "#valid_atoms = {1, 5, 6, 7, 8, 9, 14, 15, 16, 17, 35, 53}\n",
    "valid_atoms = {1, 6, 7, 8, 9, 15, 16, 17}\n",
    "num_peaks_per_formula = 12\n",
    "#max_formulae = 100000\n",
    "max_formulae = 4096\n",
    "\n",
    "ffe = FragmentFormulaPeakEnumerator(sorted(valid_atoms), use_highres=True, max_peak_num=num_peaks_per_formula)\n",
    "\n",
    "def goodmol(mol):\n",
    "        if len(mol.GetAtoms()) > 48:\n",
    "            return False\n",
    "        \n",
    "        atoms = { a.GetAtomicNum() for a in mol.GetAtoms() }\n",
    "        if not atoms < valid_atoms:\n",
    "            return False\n",
    "            \n",
    "        f,m = ffe.get_frag_formulae(mol)\n",
    "        if len(f) > max_formulae:\n",
    "            return False\n",
    "\n",
    "        return True"
   ]
  },
  {
   "cell_type": "code",
   "execution_count": null,
   "id": "c419c339",
   "metadata": {},
   "outputs": [],
   "source": [
    "test = pd.read_parquet('test.pq')\n",
    "test"
   ]
  },
  {
   "cell_type": "code",
   "execution_count": null,
   "id": "34a822a0",
   "metadata": {},
   "outputs": [],
   "source": [
    "smalltest = test[[ goodmol(Chem.AddHs(Chem.Mol(m))) for m in test.rdmol ]]\n",
    "smalltest"
   ]
  },
  {
   "cell_type": "code",
   "execution_count": null,
   "id": "a1bd6cf4",
   "metadata": {},
   "outputs": [],
   "source": [
    "smalltest.to_parquet('smalltest.pq')"
   ]
  },
  {
   "cell_type": "code",
   "execution_count": null,
   "id": "9e9540d6",
   "metadata": {},
   "outputs": [],
   "source": [
    "train = pd.read_parquet('train.pq')\n",
    "train"
   ]
  },
  {
   "cell_type": "code",
   "execution_count": null,
   "id": "c2d2902f",
   "metadata": {},
   "outputs": [],
   "source": [
    "smalltrain = train[[ goodmol(Chem.AddHs(Chem.Mol(m))) for m in train.rdmol ]]\n",
    "smalltrain"
   ]
  },
  {
   "cell_type": "code",
   "execution_count": null,
   "id": "d64e40bb",
   "metadata": {},
   "outputs": [],
   "source": [
    "smalltrain.to_parquet('smalltrain.pq')"
   ]
  }
 ],
 "metadata": {
  "kernelspec": {
   "display_name": "Python 3 (ipykernel)",
   "language": "python",
   "name": "python3"
  },
  "language_info": {
   "codemirror_mode": {
    "name": "ipython",
    "version": 3
   },
   "file_extension": ".py",
   "mimetype": "text/x-python",
   "name": "python",
   "nbconvert_exporter": "python",
   "pygments_lexer": "ipython3",
   "version": "3.8.10"
  }
 },
 "nbformat": 4,
 "nbformat_minor": 5
}
