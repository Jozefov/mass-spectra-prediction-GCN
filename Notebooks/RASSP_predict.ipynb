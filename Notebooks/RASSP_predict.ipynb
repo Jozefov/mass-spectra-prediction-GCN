{
 "cells": [
  {
   "cell_type": "markdown",
   "metadata": {
    "id": "Unl_SZ6UBWFN"
   },
   "source": [
    "# RASSP prediction"
   ]
  },
  {
   "cell_type": "code",
   "execution_count": null,
   "metadata": {
    "id": "Fe5tjsBEb6CW"
   },
   "outputs": [],
   "source": [
    "!pip install matchms\n",
    "!pip install jupyterlab\n",
    "!pip install rdkit pandas matplotlib cython numba scikit-learn\n",
    "!pip install python-igraph ruffus tqdm boto3 networkx graphviz tensorflow tensorboardX diskcache PyYAML natsort pyarrow seaborn SQLAlchemy click\n",
    "!pip install git+https://github.com/thejonaslab/tinygraph.git"
   ]
  },
  {
   "cell_type": "code",
   "execution_count": null,
   "metadata": {
    "id": "WHN8gu6jb3IB"
   },
   "outputs": [],
   "source": [
    "!git clone https://github.com/ljocha/rassp-public.git"
   ]
  },
  {
   "cell_type": "code",
   "execution_count": null,
   "metadata": {
    "id": "5n8kaoV9b1Jr"
   },
   "outputs": [],
   "source": [
    "import os\n",
    "os.chdir('/content/rassp-public')"
   ]
  },
  {
   "cell_type": "code",
   "execution_count": null,
   "metadata": {
    "id": "uNZpCSOxbzlB"
   },
   "outputs": [],
   "source": [
    "from google.colab import drive\n",
    "drive.mount('/content/drive')"
   ]
  },
  {
   "cell_type": "code",
   "execution_count": null,
   "metadata": {
    "id": "KGBbyuPdbyAN"
   },
   "outputs": [],
   "source": [
    "!pip install ipywidgets\n",
    "!jupyter nbextension enable --py widgetsnbextension"
   ]
  },
  {
   "cell_type": "code",
   "execution_count": null,
   "metadata": {
    "id": "10s3qi8abuww"
   },
   "outputs": [],
   "source": [
    "!pip install cython\n",
    "!pip install numpy"
   ]
  },
  {
   "cell_type": "code",
   "execution_count": null,
   "metadata": {
    "id": "53q10AhGbtIK"
   },
   "outputs": [],
   "source": [
    "!pip install -e .\n",
    "!python -c 'import rassp.msutil'"
   ]
  },
  {
   "cell_type": "code",
   "execution_count": null,
   "metadata": {
    "id": "5hcC1baLboti"
   },
   "outputs": [],
   "source": [
    "import pandas as pd\n",
    "import urllib\n",
    "import pickle\n",
    "import rassp\n",
    "from rassp import netutil\n",
    "from rdkit import Chem\n",
    "import numpy as np\n",
    "import torch\n",
    "import matchms\n",
    "import matplotlib.pyplot as plt"
   ]
  },
  {
   "cell_type": "code",
   "execution_count": null,
   "metadata": {
    "id": "kpyYS4EdbnA5"
   },
   "outputs": [],
   "source": [
    "from rassp import msutil,model\n",
    "import sys\n",
    "sys.modules['msutil'] = msutil\n",
    "sys.modules['model'] = model"
   ]
  },
  {
   "cell_type": "code",
   "execution_count": null,
   "metadata": {
    "id": "pxgjZALlble1"
   },
   "outputs": [],
   "source": [
    "test = pd.read_parquet('/content/drive/MyDrive/NIST_SMALL/smalltest.pq')"
   ]
  },
  {
   "cell_type": "code",
   "execution_count": null,
   "metadata": {
    "id": "L4aaoGVmbg1B"
   },
   "outputs": [],
   "source": [
    "use_gpu=True\n",
    "# this are models from RASSP checkpoint saves\n",
    "model = '/content/drive/MyDrive/RASSP/MODELS/small.80261075.00001606.model'\n",
    "meta = '/content/drive/MyDrive/RASSP/MODELS/small.80173081.meta'\n",
    "\n",
    "if use_gpu and not torch.cuda.is_available():\n",
    "    use_gpu = False\n",
    "\n",
    "    \n",
    "\n",
    "predictor = netutil.PredModel(\n",
    "    meta,\n",
    "    model,\n",
    "    USE_CUDA=use_gpu,\n",
    "    data_parallel=False,\n",
    ")\n"
   ]
  },
  {
   "cell_type": "code",
   "execution_count": null,
   "metadata": {
    "id": "BryQHJk9I6jy"
   },
   "outputs": [],
   "source": [
    "sample = test"
   ]
  },
  {
   "cell_type": "code",
   "execution_count": null,
   "metadata": {
    "colab": {
     "background_save": true,
     "base_uri": "https://localhost:8080/"
    },
    "id": "ioe4nf0cI23k",
    "outputId": "2035af87-f440-49b4-e4ed-58ce0df481a5"
   },
   "outputs": [
    {
     "name": "stderr",
     "output_type": "stream",
     "text": [
      "100%|██████████| 28.1k/28.1k [1:54:27<00:00, 4.09it/s]\n"
     ]
    }
   ],
   "source": [
    "\n",
    "mols = [ Chem.AddHs(Chem.Mol(m)) for m in sample.rdmol ]\n",
    "\n",
    "predictions = predictor.pred(\n",
    "    mols,\n",
    "    progress_bar=True,\n",
    "    normalize_pred=True,\n",
    "    output_hist_bins=True,\n",
    "    batch_size=1, # XXX\n",
    "    dataloader_config={\n",
    "        'pin_memory': False,\n",
    "        'num_workers': 0, # XXX\n",
    "        'persistent_workers': False,\n",
    "    },\n",
    "    benchmark_dataloader=False,\n",
    ")\n"
   ]
  },
  {
   "cell_type": "code",
   "execution_count": null,
   "metadata": {
    "colab": {
     "background_save": true
    },
    "id": "j5a1k5H8Jpsx"
   },
   "outputs": [],
   "source": [
    "pred = predictions['pred_binned']\n",
    "true = [ np.stack(list(t)) for t in sample.spect ]"
   ]
  },
  {
   "cell_type": "code",
   "execution_count": null,
   "metadata": {
    "colab": {
     "background_save": true
    },
    "id": "7KXqXW6pJr4l"
   },
   "outputs": [],
   "source": [
    "def to_matchms_spec(s):\n",
    "    return matchms.Spectrum(mz=s[:,0].astype(float),intensities=s[:,1].astype(float))"
   ]
  },
  {
   "cell_type": "code",
   "execution_count": null,
   "metadata": {
    "id": "S6NtvfxQJuWM"
   },
   "outputs": [],
   "source": [
    "matchms.set_matchms_logger_level(\"ERROR\")\n",
    "\n",
    "# normal DP\n",
    "sim_dp = matchms.similarity.CosineGreedy(mz_power=1., intensity_power=.5)\n",
    "dp = [ sim_dp.pair(to_matchms_spec(true[i]),to_matchms_spec(pred[i])) for i in range(len(true)) ]\n",
    "dp = np.array([ float(s['score']) for s in dp ])\n",
    "\n",
    "sim_sdp = matchms.similarity.CosineGreedy(mz_power=3., intensity_power=.6)\n",
    "sdp = [ sim_sdp.pair(to_matchms_spec(true[i]),to_matchms_spec(pred[i])) for i in range(len(true)) ]\n",
    "sdp = np.array([ float(s['score']) for s in sdp ])"
   ]
  },
  {
   "cell_type": "code",
   "execution_count": null,
   "metadata": {
    "id": "S5gM_7JLJxIA"
   },
   "outputs": [],
   "source": [
    "win = 1\n",
    "smooth_dp = np.convolve(dp, np.ones(win)/win, mode='valid')\n",
    "smooth_sdp = np.convolve(sdp, np.ones(win)/win, mode='valid')\n",
    "\n",
    "plt.plot(smooth_dp,label='dp')\n",
    "plt.plot(smooth_sdp,label='sdp')\n",
    "plt.legend()\n",
    "#plt.plot([ float(s['matches']) for s in scores ])\n",
    "plt.show()"
   ]
  },
  {
   "cell_type": "code",
   "execution_count": null,
   "metadata": {
    "id": "NQQ5sCOqacfR"
   },
   "outputs": [],
   "source": [
    "bins = 70\n",
    "plt.figure(figsize=(10,4))\n",
    "plt.subplot(121)\n",
    "plt.hist(dp,label='dp',bins=bins)\n",
    "plt.title('dp')\n",
    "plt.subplot(122)\n",
    "plt.hist(sdp,label='sdp',bins=bins)\n",
    "plt.title('sdp')\n",
    "#lt.legend()\n",
    "plt.show()"
   ]
  },
  {
   "cell_type": "code",
   "execution_count": null,
   "metadata": {
    "colab": {
     "background_save": true
    },
    "id": "WH8JaxoTa3-z",
    "outputId": "fb76273f-313c-42f7-8ba2-3e56c107ab88"
   },
   "outputs": [
    {
     "data": {
      "image/png": "[encoded data removed]",
      "text/plain": [
       "<Figure size 1000x400 with 2 Axes>"
      ]
     },
     "metadata": {},
     "output_type": "display_data"
    }
   ],
   "source": [
    "bins = 200\n",
    "plt.figure(figsize=(10,4))\n",
    "plt.subplot(121)\n",
    "plt.hist(dp,label='dp',bins=bins)\n",
    "plt.title('dp')\n",
    "plt.subplot(122)\n",
    "plt.hist(sdp,label='sdp',bins=bins)\n",
    "plt.title('sdp')\n",
    "plt.show()"
   ]
  },
  {
   "cell_type": "code",
   "execution_count": null,
   "metadata": {
    "id": "5kHX3SoKa9sC"
   },
   "outputs": [],
   "source": [
    "print(f\" | DotProduct mean is: {np.mean(dp)} and standard deviation is {np.std(dp)}\")\n",
    "\n",
    "print(f\" | SteinDotProduct mean is: {np.mean(sdp)} and standard deviation is {np.std(sdp)}\")"
   ]
  }
 ],
 "metadata": {
  "accelerator": "GPU",
  "colab": {
   "machine_shape": "hm",
   "provenance": []
  },
  "gpuClass": "standard",
  "kernelspec": {
   "display_name": "Python 3 (ipykernel)",
   "language": "python",
   "name": "python3"
  },
  "language_info": {
   "codemirror_mode": {
    "name": "ipython",
    "version": 3
   },
   "file_extension": ".py",
   "mimetype": "text/x-python",
   "name": "python",
   "nbconvert_exporter": "python",
   "pygments_lexer": "ipython3",
   "version": "3.8.10"
  }
 },
 "nbformat": 4,
 "nbformat_minor": 1
}
